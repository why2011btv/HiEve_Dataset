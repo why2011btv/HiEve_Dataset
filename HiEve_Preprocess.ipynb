{
 "cells": [
  {
   "cell_type": "code",
   "execution_count": 9,
   "metadata": {},
   "outputs": [
    {
     "name": "stdout",
     "output_type": "stream",
     "text": [
      "100\n"
     ]
    }
   ],
   "source": [
    "from os import listdir\n",
    "from os.path import isfile, join\n",
    "mypath = './hievents_v2/'\n",
    "onlyfiles = [f for f in listdir(mypath) if isfile(join(mypath, f))]\n",
    "print(len(onlyfiles))"
   ]
  },
  {
   "cell_type": "code",
   "execution_count": 10,
   "metadata": {},
   "outputs": [],
   "source": [
    "from collections import defaultdict \n",
    "#Class to represent a graph \n",
    "class Graph: \n",
    "  \n",
    "    def __init__(self, vertices): \n",
    "        self.V = vertices \n",
    "\n",
    "    # Floyd Warshall algorithm \n",
    "    def transitiveClosure(self,graph): \n",
    "        '''reach[][] will be the output matrix that will finally \n",
    "        have reachability values. \n",
    "        Initialize the solution matrix same as input graph matrix'''\n",
    "        reach =[i[:] for i in graph] \n",
    "        '''Add all vertices one by one to the set of intermediate \n",
    "        vertices. \n",
    "         ---> Before start of a iteration, we have reachability value \n",
    "         for all pairs of vertices such that the reachability values \n",
    "          consider only the vertices in set  \n",
    "        {0, 1, 2, .. k-1} as intermediate vertices. \n",
    "          ----> After the end of an iteration, vertex no. k is \n",
    "         added to the set of intermediate vertices and the  \n",
    "        set becomes {0, 1, 2, .. k}'''\n",
    "        for k in range(self.V): \n",
    "              \n",
    "            # Pick all vertices as source one by one \n",
    "            for i in range(self.V): \n",
    "                  \n",
    "                # Pick all vertices as destination for the \n",
    "                # above picked source \n",
    "                for j in range(self.V): \n",
    "                      \n",
    "                    # If vertex k is on a path from i to j,  \n",
    "                       # then make sure that the value of reach[i][j] is 1 \n",
    "                    reach[i][j] = min( reach[i][j] , reach[i][k] + reach[k][j] )\n",
    "        return reach"
   ]
  },
  {
   "cell_type": "code",
   "execution_count": 11,
   "metadata": {},
   "outputs": [
    {
     "name": "stderr",
     "output_type": "stream",
     "text": [
      "100%|██████████| 100/100 [00:05<00:00, 17.19it/s]"
     ]
    },
    {
     "name": "stdout",
     "output_type": "stream",
     "text": [
      "num_PC: 1802\n",
      "num_CP: 1846\n",
      "num_CO: 758\n",
      "num_NO: 63755\n"
     ]
    },
    {
     "name": "stderr",
     "output_type": "stream",
     "text": [
      "\n"
     ]
    }
   ],
   "source": [
    "import xml.etree.ElementTree as ET\n",
    "import tqdm\n",
    "import numpy as np\n",
    "\n",
    "num_PC = 0\n",
    "num_CP = 0\n",
    "num_CO = 0\n",
    "num_NO = 0\n",
    "\n",
    "def rel(i, j, graph, num_CO, num_PC, num_CP, num_NO):\n",
    "    if graph[i][j] < 100 or graph[j][i] < 100:\n",
    "        num_CO += 1\n",
    "        return \"Coref\", num_CO, num_PC, num_CP, num_NO\n",
    "    elif graph[i][j] < 10000:\n",
    "        num_PC += 1\n",
    "        return \"SuperSub\", num_CO, num_PC, num_CP, num_NO\n",
    "    elif graph[j][i] < 10000:\n",
    "        num_CP += 1\n",
    "        return \"SubSuper\", num_CO, num_PC, num_CP, num_NO\n",
    "    else:\n",
    "        num_NO += 1\n",
    "        return \"NoRel\", num_CO, num_PC, num_CP, num_NO\n",
    "    \n",
    "for fname in tqdm.tqdm(onlyfiles):\n",
    "    tree = ET.parse(mypath+fname)\n",
    "    root = tree.getroot()\n",
    "    with open('./hievents_v2/processed/' + fname.replace('.xml', '.tsvx'), 'w', encoding='utf8') as fp:\n",
    "        event_dict = {}\n",
    "        relation_set = {}\n",
    "        for child in root:\n",
    "            if child.tag == 'Text':\n",
    "                fp.write('Text\\t' + child.text + '\\n')\n",
    "            elif child.tag == 'Events':\n",
    "                for event in child:\n",
    "                    event_dict[event[0].text] = {\"AnchorText\": event[1].text, \"Type\": event[2].text, \"Position\": event[3].text}\n",
    "                    fp.write('Event\\t')\n",
    "                    fp.write(event[0].text + \"\\t\")\n",
    "                    fp.write(event[1].text + \"\\t\")\n",
    "                    fp.write(event[2].text + \"\\t\")\n",
    "                    fp.write(event[3].text + \"\\n\")\n",
    "        num_event = len(event_dict)  \n",
    "        g = Graph(num_event+1)\n",
    "        graph = np.ones((num_event+1, num_event+1))\n",
    "        graph = graph * 10000\n",
    "        for child in root:\n",
    "            if child.tag == \"Relations\":\n",
    "                for RelationInfo in child:\n",
    "                    if RelationInfo[2].text == \"Coref\":\n",
    "                        graph[int(RelationInfo[0].text)][int(RelationInfo[1].text)] = 1\n",
    "                        graph[int(RelationInfo[1].text)][int(RelationInfo[0].text)] = 1\n",
    "                    elif RelationInfo[2].text == \"SuperSub\":\n",
    "                        graph[int(RelationInfo[0].text)][int(RelationInfo[1].text)] = 100\n",
    "                        \n",
    "        graph = g.transitiveClosure(graph) \n",
    "        for i in range(1, num_event):\n",
    "            for j in range(i+1, num_event + 1):\n",
    "                if i < j:\n",
    "                    relation, num_CO, num_PC, num_CP, num_NO = rel(i, j, graph, num_CO, num_PC, num_CP, num_NO)\n",
    "                    fp.write('Relation\\t')\n",
    "                    fp.write(str(i) + \"\\t\")\n",
    "                    fp.write(str(j) + \"\\t\")\n",
    "                    fp.write(relation + \"\\t\")\n",
    "                    fp.write(\"true\\t\")\n",
    "                    fp.write(event_dict[str(i)][\"AnchorText\"] + \"\\t\")\n",
    "                    fp.write(event_dict[str(j)][\"AnchorText\"] + \"\\n\")\n",
    "                \n",
    "print(\"num_PC:\", num_PC)     \n",
    "print(\"num_CP:\", num_CP)     \n",
    "print(\"num_CO:\", num_CO)     \n",
    "print(\"num_NO:\", num_NO)     "
   ]
  },
  {
   "cell_type": "code",
   "execution_count": null,
   "metadata": {},
   "outputs": [],
   "source": []
  }
 ],
 "metadata": {
  "kernelspec": {
   "display_name": "consistency_env",
   "language": "python",
   "name": "consistency_env"
  },
  "language_info": {
   "codemirror_mode": {
    "name": "ipython",
    "version": 3
   },
   "file_extension": ".py",
   "mimetype": "text/x-python",
   "name": "python",
   "nbconvert_exporter": "python",
   "pygments_lexer": "ipython3",
   "version": "3.7.6"
  }
 },
 "nbformat": 4,
 "nbformat_minor": 4
}
